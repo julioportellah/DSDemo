{
 "cells": [
  {
   "cell_type": "markdown",
   "metadata": {},
   "source": [
    "# Goldbach Runner\n",
    "\n",
    "This notebook demonstrates how to create a grading workflow using PyBryt."
   ]
  },
  {
   "cell_type": "code",
   "execution_count": 1,
   "metadata": {},
   "outputs": [],
   "source": [
    "import pybryt"
   ]
  },
  {
   "cell_type": "markdown",
   "metadata": {},
   "source": [
    "This demo has the following directory structure. This notebook, `index.ipynb`, runs PyBryt, `goldbach.ipynb` is the assignment reference implementation, and `submissions` contains notebooks with student code in them."
   ]
  },
  {
   "cell_type": "code",
   "execution_count": 2,
   "metadata": {},
   "outputs": [
    {
     "name": "stdout",
     "output_type": "stream",
     "text": [
      ".\n",
      "├── goldbach-ref.pkl\n",
      "├── goldbach.ipynb\n",
      "├── index.ipynb\n",
      "├── out-1.ipynb\n",
      "├── out-2.ipynb\n",
      "├── out-3.ipynb\n",
      "├── out-4.ipynb\n",
      "├── out-5.ipynb\n",
      "├── out-6.ipynb\n",
      "└── submissions\n",
      "    ├── 1.ipynb\n",
      "    ├── 1.py\n",
      "    ├── 2.ipynb\n",
      "    ├── 2.py\n",
      "    ├── 3.ipynb\n",
      "    ├── 3.py\n",
      "    ├── 4.ipynb\n",
      "    ├── 4.py\n",
      "    ├── 5.ipynb\n",
      "    ├── 5.py\n",
      "    ├── 6.ipynb\n",
      "    └── 6.py\n",
      "\n",
      "1 directory, 21 files\n"
     ]
    }
   ],
   "source": [
    "%%bash\n",
    "tree"
   ]
  },
  {
   "cell_type": "markdown",
   "metadata": {},
   "source": [
    "## Reference Implementations\n",
    "\n",
    "If you have marked up a reference implementation, like the one in [`goldbach.ipynb`](goldbach.ipynb), you can load this reference using `pybryt.ReferenceImplementation.compile`. Because references are relatively static and can take some time to execute, you can pickle the reference implementations to a file with `pybryt.ReferenceImplementation.dump`."
   ]
  },
  {
   "cell_type": "code",
   "execution_count": 3,
   "metadata": {},
   "outputs": [],
   "source": [
    "ref = pybryt.ReferenceImplementation.compile(\"goldbach.ipynb\")\n",
    "ref.dump(\"goldbach-ref.pkl\")"
   ]
  },
  {
   "cell_type": "markdown",
   "metadata": {},
   "source": [
    "To load a pickled reference implementation, use `pybryt.ReferenceImplementation.load`:"
   ]
  },
  {
   "cell_type": "code",
   "execution_count": 4,
   "metadata": {},
   "outputs": [],
   "source": [
    "ref = pybryt.ReferenceImplementation.load(\"goldbach-ref.pkl\")"
   ]
  },
  {
   "cell_type": "markdown",
   "metadata": {},
   "source": [
    "## Assessing Submissions\n",
    "\n",
    "To use PyBryt for grading multiple submissions, you can build a reproducible grading pipeline for an arbitrary number of submissions. To grab the submission notebook paths, the cell below uses `glob.glob`."
   ]
  },
  {
   "cell_type": "code",
   "execution_count": 5,
   "metadata": {},
   "outputs": [
    {
     "data": {
      "text/plain": [
       "['submissions/6.py',\n",
       " 'submissions/2.py',\n",
       " 'submissions/3.py',\n",
       " 'submissions/4.py',\n",
       " 'submissions/5.py',\n",
       " 'submissions/1.py']"
      ]
     },
     "execution_count": 5,
     "metadata": {},
     "output_type": "execute_result"
    }
   ],
   "source": [
    "from glob import glob\n",
    "subms = glob(\"submissions/*.py\")\n",
    "subms"
   ]
  },
  {
   "cell_type": "code",
   "execution_count": 6,
   "metadata": {},
   "outputs": [],
   "source": [
    "import os\n",
    "import nbformat  as nbf\n",
    "from pathlib import Path\n",
    "\n",
    "notebooks = []\n",
    "\n",
    "for sub in subms:\n",
    "\n",
    "    code = Path(sub).read_text()\n",
    "    \n",
    "    cells = []\n",
    "\n",
    "    cell = nbf.v4.new_code_cell(source=code)\n",
    "    cells.append(cell)\n",
    "    cell = nbf.v4.new_code_cell(source=\"from sympy.ntheory.generate import primerange\\nprimes = set(primerange(50,1000))\\ncheck_goldbach_for_num(116, primes)\")\n",
    "    cells.append(cell)\n",
    "\n",
    "    nb = nbf.v4.new_notebook(cells = cells)\n",
    "\n",
    "    pre, ext = os.path.splitext(sub)\n",
    "    notebook = pre + '.ipynb'\n",
    "    with open(notebook, 'w') as f:\n",
    "        \n",
    "            nbf.write(nb, f, 4)\n",
    "    notebooks.append(notebook)"
   ]
  },
  {
   "cell_type": "markdown",
   "metadata": {},
   "source": [
    "To use PyBryt to grade a student's submission, a `pybryt.StudentImplementation` must be created from that submission. The constructor takes the path to the notebook as its only positional argument. It is in this step that the student's code is executed, so this cell will need to be rerun whenever changes are made to the submission notebooks."
   ]
  },
  {
   "cell_type": "code",
   "execution_count": 7,
   "metadata": {},
   "outputs": [
    {
     "name": "stdout",
     "output_type": "stream",
     "text": [
      "submissions/6.ipynb\n",
      "submissions/2.ipynb\n",
      "submissions/3.ipynb\n",
      "submissions/4.ipynb\n",
      "submissions/5.ipynb\n",
      "submissions/1.ipynb\n"
     ]
    },
    {
     "data": {
      "text/plain": [
       "[<pybryt.student.StudentImplementation at 0x110b84ef0>,\n",
       " <pybryt.student.StudentImplementation at 0x119c08588>,\n",
       " <pybryt.student.StudentImplementation at 0x110ef2550>,\n",
       " <pybryt.student.StudentImplementation at 0x1114f1518>,\n",
       " <pybryt.student.StudentImplementation at 0x110b84fd0>,\n",
       " <pybryt.student.StudentImplementation at 0x119cf5c18>]"
      ]
     },
     "execution_count": 7,
     "metadata": {},
     "output_type": "execute_result"
    }
   ],
   "source": [
    "student_impls = []\n",
    "for subm in notebooks:\n",
    "    print(subm)\n",
    "    student_impls.append(pybryt.StudentImplementation(subm))\n",
    "\n",
    "student_impls"
   ]
  },
  {
   "cell_type": "markdown",
   "metadata": {},
   "source": [
    "Once you have created the `pybryt.StudentImplementation` objects, use the `pybryt.StudentImplementation.check` method to run the check of a submission against a reference implementation. This method returns a single `pybryt.ReferenceResult` or a list of them, depending on the argument passed to `check`. In the cell below, the results are collected into a list."
   ]
  },
  {
   "cell_type": "code",
   "execution_count": 8,
   "metadata": {},
   "outputs": [
    {
     "data": {
      "text/plain": [
       "[ReferenceResult([\n",
       "   AnnotationResult(satisfied=True, annotation=pybryt.NotAnnotation),\n",
       "   AnnotationResult(satisfied=True, annotation=pybryt.NotAnnotation),\n",
       "   AnnotationResult(satisfied=True, annotation=pybryt.NotAnnotation),\n",
       "   AnnotationResult(satisfied=True, annotation=pybryt.NotAnnotation),\n",
       "   AnnotationResult(satisfied=True, annotation=pybryt.NotAnnotation)\n",
       " ]),\n",
       " ReferenceResult([\n",
       "   AnnotationResult(satisfied=False, annotation=pybryt.NotAnnotation),\n",
       "   AnnotationResult(satisfied=True, annotation=pybryt.NotAnnotation),\n",
       "   AnnotationResult(satisfied=True, annotation=pybryt.NotAnnotation),\n",
       "   AnnotationResult(satisfied=False, annotation=pybryt.NotAnnotation),\n",
       "   AnnotationResult(satisfied=True, annotation=pybryt.NotAnnotation)\n",
       " ]),\n",
       " ReferenceResult([\n",
       "   AnnotationResult(satisfied=True, annotation=pybryt.NotAnnotation),\n",
       "   AnnotationResult(satisfied=True, annotation=pybryt.NotAnnotation),\n",
       "   AnnotationResult(satisfied=True, annotation=pybryt.NotAnnotation),\n",
       "   AnnotationResult(satisfied=True, annotation=pybryt.NotAnnotation),\n",
       "   AnnotationResult(satisfied=False, annotation=pybryt.NotAnnotation)\n",
       " ]),\n",
       " ReferenceResult([\n",
       "   AnnotationResult(satisfied=True, annotation=pybryt.NotAnnotation),\n",
       "   AnnotationResult(satisfied=True, annotation=pybryt.NotAnnotation),\n",
       "   AnnotationResult(satisfied=False, annotation=pybryt.NotAnnotation),\n",
       "   AnnotationResult(satisfied=True, annotation=pybryt.NotAnnotation),\n",
       "   AnnotationResult(satisfied=True, annotation=pybryt.NotAnnotation)\n",
       " ]),\n",
       " ReferenceResult([\n",
       "   AnnotationResult(satisfied=True, annotation=pybryt.NotAnnotation),\n",
       "   AnnotationResult(satisfied=True, annotation=pybryt.NotAnnotation),\n",
       "   AnnotationResult(satisfied=True, annotation=pybryt.NotAnnotation),\n",
       "   AnnotationResult(satisfied=False, annotation=pybryt.NotAnnotation),\n",
       "   AnnotationResult(satisfied=True, annotation=pybryt.NotAnnotation)\n",
       " ]),\n",
       " ReferenceResult([\n",
       "   AnnotationResult(satisfied=True, annotation=pybryt.NotAnnotation),\n",
       "   AnnotationResult(satisfied=False, annotation=pybryt.NotAnnotation),\n",
       "   AnnotationResult(satisfied=False, annotation=pybryt.NotAnnotation),\n",
       "   AnnotationResult(satisfied=True, annotation=pybryt.NotAnnotation),\n",
       "   AnnotationResult(satisfied=False, annotation=pybryt.NotAnnotation)\n",
       " ])]"
      ]
     },
     "execution_count": 8,
     "metadata": {},
     "output_type": "execute_result"
    }
   ],
   "source": [
    "results = []\n",
    "for si in student_impls:\n",
    "    results.append(si.check(ref))\n",
    "\n",
    "results"
   ]
  },
  {
   "cell_type": "markdown",
   "metadata": {},
   "source": [
    "To view the results in a concise manner, the `pybryt.ReferenceResult` class has some helpful instance variables:"
   ]
  },
  {
   "cell_type": "code",
   "execution_count": 9,
   "metadata": {},
   "outputs": [
    {
     "name": "stdout",
     "output_type": "stream",
     "text": [
      "SUBMISSION: submissions/6.py\n",
      "  SATISFIED: True\n",
      "  MESSAGES:\n",
      "\n",
      "\n",
      "\n",
      "SUBMISSION: submissions/2.py\n",
      "  SATISFIED: False\n",
      "  MESSAGES:\n",
      "    - ADVICE: it is good that you are looking only at primes smaller than n but to save memory you can do that without creating a new set\n",
      "    - ADVICE: if the prime is bigger then n it cannot be a member of a pair that sum to n\n",
      "\n",
      "\n",
      "SUBMISSION: submissions/3.py\n",
      "  SATISFIED: False\n",
      "  MESSAGES:\n",
      "    - ADVICE: the program checks if 35 is prime (35 is just an example), try to see if this can be avoided\n",
      "\n",
      "\n",
      "SUBMISSION: submissions/4.py\n",
      "  SATISFIED: False\n",
      "  MESSAGES:\n",
      "    - ADVICE: instead of going over all primes and checking if they sum to n you can check if n-p is in the list of primes\n",
      "\n",
      "\n",
      "SUBMISSION: submissions/5.py\n",
      "  SATISFIED: False\n",
      "  MESSAGES:\n",
      "    - ADVICE: if the prime is bigger then n it cannot be a member of a pair that sum to n\n",
      "\n",
      "\n",
      "SUBMISSION: submissions/1.py\n",
      "  SATISFIED: False\n",
      "  MESSAGES:\n",
      "    - ADVICE: sorting the list of primes only increases the complexity of the solution\n",
      "    - ADVICE: instead of going over all primes and checking if they sum to n you can check if n-p is in the list of primes\n",
      "    - ADVICE: the program checks if 35 is prime (35 is just an example), try to see if this can be avoided\n",
      "\n",
      "\n"
     ]
    }
   ],
   "source": [
    "from textwrap import indent\n",
    "for sp, res in zip(subms, results):\n",
    "    print(f\"SUBMISSION: {sp}\")\n",
    "    # res.messages is a list of messages returned by the reference during grading\n",
    "    messages = \"\\n\".join(res.messages) \n",
    "    \n",
    "    # res.correct is a boolean for whether the reference was satisfied\n",
    "    message = f\"SATISFIED: {res.correct}\\nMESSAGES:\\n{indent(messages, '  - ')}\"\n",
    "    \n",
    "    # some pretty-printing\n",
    "    print(indent(message, \"  \"))\n",
    "    print(\"\\n\")"
   ]
  },
  {
   "cell_type": "markdown",
   "metadata": {},
   "source": [
    " "
   ]
  }
 ],
 "metadata": {
  "@webio": {
   "lastCommId": null,
   "lastKernelId": null
  },
  "kernelspec": {
   "display_name": "Python 3",
   "language": "python",
   "name": "python3"
  },
  "language_info": {
   "codemirror_mode": {
    "name": "ipython",
    "version": 3
   },
   "file_extension": ".py",
   "mimetype": "text/x-python",
   "name": "python",
   "nbconvert_exporter": "python",
   "pygments_lexer": "ipython3",
   "version": "3.7.3"
  }
 },
 "nbformat": 4,
 "nbformat_minor": 4
}
