{
 "cells": [
  {
   "cell_type": "markdown",
   "metadata": {},
   "source": [
    "# Goldbach conjecture"
   ]
  },
  {
   "cell_type": "code",
   "execution_count": 3,
   "metadata": {},
   "outputs": [],
   "source": [
    "import pybryt"
   ]
  },
  {
   "cell_type": "markdown",
   "metadata": {},
   "source": [
    "# helper function\n",
    "\n",
    "In this reference implementation we mark many values that we expect a good solution *not* to have. Therefore, we use this helper function simplifies the notation."
   ]
  },
  {
   "cell_type": "code",
   "execution_count": 4,
   "metadata": {},
   "outputs": [],
   "source": [
    "def notify_when_value_exists(value, message_when_exists, message_when_missing = None):\n",
    "    v = pybryt.Value(value)\n",
    "    n = ~v\n",
    "    n.success_message = message_when_missing\n",
    "    n.failure_message = message_when_exists\n",
    "    return(n)"
   ]
  },
  {
   "cell_type": "markdown",
   "metadata": {},
   "source": [
    "The function above can be written in a concise way but it might be less obvious to understand why it works:\n",
    "\n",
    "```python\n",
    "def notify_when_value_exists(value, message_when_exists, message_when_missing = None):\n",
    "    return (~pybryt.Value(value, \n",
    "        failure_message = message_when_missing,\n",
    "        success_message = message_when_exists)\n",
    "```"
   ]
  },
  {
   "cell_type": "markdown",
   "metadata": {
    "nbgrader": {
     "grade": false,
     "grade_id": "intro",
     "locked": true,
     "schema_version": 2,
     "solution": false
    }
   },
   "source": [
    "The strong Goldbach conjecture states that every even integer $\\geq$ 4 is a sum of two prime numbers. Proving this conjecture is an open problem in mathematics for almost 300 years. In this exercise you are asked to write a function `check_goldbach_conjecture(n, primes)` which receives an integer `n` and a set of primes and returns `True` if `n` is a sum of two primes from the set or `False` otherwise. Try to make your solution efficient in terms of computational complexity and memory usage."
   ]
  },
  {
   "cell_type": "code",
   "execution_count": 7,
   "metadata": {},
   "outputs": [],
   "source": [
    "def check_goldbach_conjecture(n, primes):\n",
    "    \"\"\"\n",
    "    Checks if n can be written as a sum of two elements from the set primes.\n",
    "    \n",
    "    Args:\n",
    "        n (``int``): an integer expected to be even greater than 4\n",
    "        primes (``set`` of ``int``): a set of prime numbers\n",
    "    \n",
    "    Returns:\n",
    "        ``bool``: True of n is a sum of two primes\n",
    "    \"\"\"    \n",
    "    relevant_primes_set={p for p in primes if p<n}\n",
    "    notify_when_value_exists(\n",
    "        relevant_primes_set, \n",
    "        \"ADVICE: it is good that you are looking only at primes smaller than n but to save memory you can do that without creating a new set\"\n",
    "    )\n",
    "\n",
    "    notify_when_value_exists(sorted(primes), \"ADVICE: sorting the list of primes only increases the complexity of the solution\")\n",
    "\n",
    "    for prime in primes:\n",
    "        if n - prime in relevant_primes_set:\n",
    "            return True\n",
    "    return False"
   ]
  },
  {
   "cell_type": "code",
   "execution_count": 6,
   "metadata": {},
   "outputs": [
    {
     "data": {
      "text/plain": [
       "pybryt.NotAnnotation"
      ]
     },
     "execution_count": 6,
     "metadata": {},
     "output_type": "execute_result"
    }
   ],
   "source": [
    "from sympy.ntheory.generate import primerange\n",
    "primes = set(primerange(50,1000))\n",
    "n = 116\n",
    "check_goldbach_conjecture(n, primes)\n",
    "\n",
    "notify_when_value_exists(71 + 73, \"ADVICE: instead of going over all primes and checking if they sum to n you can check if n-p is in the list of primes\")\n",
    "\n",
    "notify_when_value_exists(n - 997, \"ADVICE: if the prime is bigger then n it cannot be a member of a pair that sum to n\")\n",
    "\n",
    "notify_when_value_exists(35, \"ADVICE: the program checks if 35 is prime (35 is just an example), try to see if this can be avoided\")\n"
   ]
  },
  {
   "cell_type": "markdown",
   "metadata": {},
   "source": [
    " "
   ]
  }
 ],
 "metadata": {
  "@webio": {
   "lastCommId": null,
   "lastKernelId": null
  },
  "_change_revision": 0,
  "_is_fork": false,
  "celltoolbar": "Create Assignment",
  "kernelspec": {
   "display_name": "Python 3",
   "language": "python",
   "name": "python3"
  },
  "language_info": {
   "codemirror_mode": {
    "name": "ipython",
    "version": 3
   },
   "file_extension": ".py",
   "mimetype": "text/x-python",
   "name": "python",
   "nbconvert_exporter": "python",
   "pygments_lexer": "ipython3",
   "version": "3.7.3"
  },
  "toc": {
   "colors": {
    "hover_highlight": "#DAA520",
    "navigate_num": "#000000",
    "navigate_text": "#333333",
    "running_highlight": "#FF0000",
    "selected_highlight": "#FFD700",
    "sidebar_border": "#EEEEEE",
    "wrapper_background": "#FFFFFF"
   },
   "moveMenuLeft": true,
   "nav_menu": {
    "height": "301px",
    "width": "252px"
   },
   "navigate_menu": true,
   "number_sections": true,
   "sideBar": true,
   "threshold": 4,
   "toc_cell": false,
   "toc_section_display": "block",
   "toc_window_display": false,
   "widenNotebook": false
  }
 },
 "nbformat": 4,
 "nbformat_minor": 4
}
