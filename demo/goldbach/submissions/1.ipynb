{
 "cells": [
  {
   "cell_type": "code",
   "execution_count": null,
   "metadata": {},
   "outputs": [],
   "source": [
    "def check_goldbach_for_num(n, primes_set):\n",
    "    primes_set = sorted(primes_set)\n",
    "    left = 0\n",
    "    right = len(primes_set) - 1\n",
    "    index_s = None\n",
    "    index_b = None\n",
    "    while left <= right:\n",
    "        mid = (left + right) // 2\n",
    "        if n == primes_set[mid]:\n",
    "            return \"number is prime\"\n",
    "        elif right == left:\n",
    "            if n > mid:\n",
    "                index_s = mid\n",
    "                break\n",
    "            else:\n",
    "                index_b = mid\n",
    "        elif n < primes_set[mid]:\n",
    "            if n > primes_set[mid - 1]:\n",
    "                index_b = mid\n",
    "                index_s = mid - 1\n",
    "                break\n",
    "            right = mid - 1\n",
    "        else:\n",
    "            if n < primes_set[mid + 1]:\n",
    "                index_b = mid + 1\n",
    "                index_s = mid\n",
    "                break\n",
    "            left = mid + 1\n",
    "    for i in range(0, len(primes_set) - 1):\n",
    "        if n-primes_set[i] in primes_set:\n",
    "            return True\n",
    "    return False\n",
    "\n"
   ]
  },
  {
   "cell_type": "code",
   "execution_count": null,
   "metadata": {},
   "outputs": [],
   "source": [
    "from sympy.ntheory.generate import primerange\n",
    "primes = set(primerange(50,1000))\n",
    "check_goldbach_for_num(116, primes)"
   ]
  }
 ],
 "metadata": {},
 "nbformat": 4,
 "nbformat_minor": 4
}
