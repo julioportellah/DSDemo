{
 "cells": [
  {
   "cell_type": "code",
   "execution_count": null,
   "metadata": {},
   "outputs": [],
   "source": [
    "def check_goldbach_for_num(n,primes_set) :\n",
    "    '''gets an even integer- n, and a set of primes- primes_set. Returns whether there're two primes which their sum is n'''\n",
    "    \n",
    "    for prime in primes_set :\n",
    "        if ((p < n) and ((n - prime) in primes_set)):\n",
    "            return True\n",
    "    return False\n",
    "\n"
   ]
  },
  {
   "cell_type": "code",
   "execution_count": null,
   "metadata": {},
   "outputs": [],
   "source": [
    "from sympy.ntheory.generate import primerange\n",
    "primes = set(primerange(50,1000))\n",
    "check_goldbach_for_num(116, primes)"
   ]
  }
 ],
 "metadata": {},
 "nbformat": 4,
 "nbformat_minor": 4
}
