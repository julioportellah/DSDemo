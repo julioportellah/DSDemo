{
 "cells": [
  {
   "cell_type": "markdown",
   "metadata": {},
   "source": [
    "# The median statistic function"
   ]
  },
  {
   "cell_type": "code",
   "execution_count": 1,
   "metadata": {},
   "outputs": [],
   "source": [
    "import pybryt"
   ]
  },
  {
   "cell_type": "markdown",
   "metadata": {
    "nbgrader": {
     "grade": false,
     "grade_id": "intro",
     "locked": true,
     "schema_version": 2,
     "solution": false
    }
   },
   "source": [
    "In this exercise you will implement the median function over a sample. The median can be described formaly as follows: given a sample $S$, a median is a number $m$ such that $\\left\\vert\\left\\{x\\in S~~s.t.~~x \\leq m \\right\\}\\right\\vert = \\left\\vert\\left\\{x\\in S~~s.t.~~x \\geq m \\right\\}\\right\\vert$. In some cases, there is only a single number $m$ that has this property. However, in other cases, there is a range $(a,b)$ such that all numbers in this range have this property. In this case, we define the median to be the middle point in this range, that is, $\\frac{a+b}{2}$.\n",
    "\n",
    "The median function is already defined in some python libraries such as numpy. However, for this exercise you are to implement it by yourself.\n",
    "\n"
   ]
  },
  {
   "cell_type": "code",
   "execution_count": 2,
   "metadata": {},
   "outputs": [],
   "source": [
    "def median(S):\n",
    "    \"\"\"\n",
    "    Compute the median of a list of values.\n",
    "    \n",
    "    Computes the median of a list of numbers and returns the value. If\n",
    "    there is a range of possible values for the median (a, b), returns\n",
    "    the value (a + b) / 2.\n",
    "    \n",
    "    Args:\n",
    "        S (``list`` of ``int`` or ``float``): the list of data points\n",
    "    \n",
    "    Returns:\n",
    "        ``int`` or ``float``: the median of ``S``\n",
    "    \"\"\"\n",
    "    S.sort()\n",
    "    return(5.0)"
   ]
  },
  {
   "cell_type": "markdown",
   "metadata": {},
   "source": [
    "Let's test your median function. What should `median([8.0, 5.0, -1.0, 10.0, 3.0, 5.0, 2.25])` return?"
   ]
  },
  {
   "cell_type": "code",
   "execution_count": 3,
   "metadata": {},
   "outputs": [
    {
     "data": {
      "text/plain": [
       "5.0"
      ]
     },
     "execution_count": 3,
     "metadata": {},
     "output_type": "execute_result"
    }
   ],
   "source": [
    "val = median([8.0, 5.0, -1.0, 10.0, 3.0, 5.0, 2.25])\n",
    "val"
   ]
  },
  {
   "cell_type": "markdown",
   "metadata": {},
   "source": [
    " "
   ]
  }
 ],
 "metadata": {
  "@webio": {
   "lastCommId": null,
   "lastKernelId": null
  },
  "_change_revision": 0,
  "_is_fork": false,
  "celltoolbar": "Create Assignment",
  "kernelspec": {
   "display_name": "Python 3",
   "language": "python",
   "name": "python3"
  },
  "language_info": {
   "codemirror_mode": {
    "name": "ipython",
    "version": 3
   },
   "file_extension": ".py",
   "mimetype": "text/x-python",
   "name": "python",
   "nbconvert_exporter": "python",
   "pygments_lexer": "ipython3",
   "version": "3.7.3"
  },
  "toc": {
   "colors": {
    "hover_highlight": "#DAA520",
    "navigate_num": "#000000",
    "navigate_text": "#333333",
    "running_highlight": "#FF0000",
    "selected_highlight": "#FFD700",
    "sidebar_border": "#EEEEEE",
    "wrapper_background": "#FFFFFF"
   },
   "moveMenuLeft": true,
   "nav_menu": {
    "height": "301px",
    "width": "252px"
   },
   "navigate_menu": true,
   "number_sections": true,
   "sideBar": true,
   "threshold": 4,
   "toc_cell": false,
   "toc_section_display": "block",
   "toc_window_display": false,
   "widenNotebook": false
  }
 },
 "nbformat": 4,
 "nbformat_minor": 4
}
