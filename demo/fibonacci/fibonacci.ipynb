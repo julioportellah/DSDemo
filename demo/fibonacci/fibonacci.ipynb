{
 "cells": [
  {
   "cell_type": "markdown",
   "metadata": {},
   "source": [
    "# The Fibonacci Sequence"
   ]
  },
  {
   "cell_type": "markdown",
   "metadata": {},
   "source": [
    "**Reference Note:** This reference notebook includes 3 reference implementations: one checking for a hash map implementation, one checking for a dynamic programming implementation, and one checking that a student is _not_ using the naive recursive implementation."
   ]
  },
  {
   "cell_type": "code",
   "execution_count": 1,
   "metadata": {},
   "outputs": [],
   "source": [
    "import pybryt\n",
    "import pybryt.complexities as cplx\n",
    "\n",
    "map_annots = []\n",
    "dyn_annots = []"
   ]
  },
  {
   "cell_type": "markdown",
   "metadata": {},
   "source": [
    "## Hash Map Implementation"
   ]
  },
  {
   "cell_type": "code",
   "execution_count": 2,
   "metadata": {},
   "outputs": [],
   "source": [
    "fibs = {}\n",
    "\n",
    "def fibonacci(n, track=True):\n",
    "    \"\"\"\n",
    "    Return the n^th number in the Fibonacci sequence, n >= 0.\n",
    "\n",
    "    Uses the hash map implementation of the Fibonacci sequence algorithm.\n",
    "    \n",
    "    Parameters\n",
    "    ----------\n",
    "    n     : int\n",
    "        the index of the desired Fibonacci number\n",
    "    track : bool\n",
    "        whether to add a value annotation to the reference implementation\n",
    "\n",
    "    Returns\n",
    "    -------\n",
    "    integer\n",
    "        the n^th Fibonacci number\n",
    "    \"\"\"\n",
    "    if n == 0:\n",
    "        return 0\n",
    "    if n == 1:\n",
    "        return 1\n",
    "    if n in fibs:\n",
    "        return fibs[n]\n",
    "    f = fibonacci(n-1) + fibonacci(n-2)\n",
    "    fibs[n] = f\n",
    "    if track:\n",
    "        map_annots.append(pybryt.Value(fibs, success_message=\"Found hash map implementation\", name=\"hash_map\"))\n",
    "    return f"
   ]
  },
  {
   "cell_type": "code",
   "execution_count": 3,
   "metadata": {},
   "outputs": [
    {
     "name": "stdout",
     "output_type": "stream",
     "text": [
      "0 1 1 2 3 5 8 13 21 34 "
     ]
    }
   ],
   "source": [
    "for n in range(10):\n",
    "    print(fibonacci(n), end=\" \")"
   ]
  },
  {
   "cell_type": "code",
   "execution_count": 4,
   "metadata": {},
   "outputs": [
    {
     "name": "stdout",
     "output_type": "stream",
     "text": [
      "CPU times: user 848 µs, sys: 582 µs, total: 1.43 ms\n",
      "Wall time: 1.4 ms\n"
     ]
    }
   ],
   "source": [
    "%%time\n",
    "for n in range(30):\n",
    "    with pybryt.check_time_complexity(\"fib_runtime\", n):\n",
    "        fibonacci(n, track=False)"
   ]
  },
  {
   "cell_type": "code",
   "execution_count": 5,
   "metadata": {},
   "outputs": [],
   "source": [
    "map_annots.append(pybryt.TimeComplexity(cplx.linear, name=\"fib_runtime\", success_message=\"Runs in linear time\", failure_message=\"ERROR: Does not run in linear time\"))"
   ]
  },
  {
   "cell_type": "markdown",
   "metadata": {},
   "source": [
    "## Dynamic Programming Implementation"
   ]
  },
  {
   "cell_type": "code",
   "execution_count": 6,
   "metadata": {},
   "outputs": [],
   "source": [
    "import numpy as np\n",
    "\n",
    "def fibonacci(n, track=True):\n",
    "    \"\"\"\n",
    "    Return the n^th number in the Fibonacci sequence, n >= 0.\n",
    "\n",
    "    Uses the dynamic programming implementation of the Fibonacci sequence algorithm.\n",
    "    \n",
    "    Parameters\n",
    "    ----------\n",
    "    n : integer\n",
    "        the index of the desired Fibonacci number\n",
    "    track : bool\n",
    "        whether to add a value annotation to the reference implementation\n",
    "\n",
    "    Returns\n",
    "    -------\n",
    "    integer\n",
    "        the n^th Fibonacci number\n",
    "    \"\"\"\n",
    "    fibs = np.zeros(n + 1, dtype=int)\n",
    "    if n > 0:\n",
    "        fibs[1] = 1\n",
    "    for i in range(2, n + 1):\n",
    "        fibs[i] = fibs[i-1] + fibs[i-2]\n",
    "    if track:\n",
    "        dyn_annots.append(pybryt.Value(fibs, success_message=\"Found dynamic programming implementation\", name=\"dyn_array\"))\n",
    "    return fibs[n]"
   ]
  },
  {
   "cell_type": "code",
   "execution_count": 7,
   "metadata": {},
   "outputs": [
    {
     "name": "stdout",
     "output_type": "stream",
     "text": [
      "0 1 1 2 3 5 8 13 21 34 "
     ]
    }
   ],
   "source": [
    "for n in range(10):\n",
    "    print(fibonacci(n), end=\" \")"
   ]
  },
  {
   "cell_type": "code",
   "execution_count": 8,
   "metadata": {},
   "outputs": [
    {
     "name": "stdout",
     "output_type": "stream",
     "text": [
      "CPU times: user 658 µs, sys: 11 µs, total: 669 µs\n",
      "Wall time: 786 µs\n"
     ]
    }
   ],
   "source": [
    "%%time\n",
    "for n in range(30):\n",
    "    with pybryt.check_time_complexity(\"fib_runtime\", n):\n",
    "        fibonacci(n, track=False)"
   ]
  },
  {
   "cell_type": "code",
   "execution_count": 9,
   "metadata": {},
   "outputs": [],
   "source": [
    "dyn_annots.append(pybryt.TimeComplexity(cplx.linear, name=\"fib_runtime\", success_message=\"Runs in linear time\", failure_message=\"ERROR: Does not run in linear time\"))"
   ]
  },
  {
   "cell_type": "code",
   "execution_count": 10,
   "metadata": {},
   "outputs": [
    {
     "data": {
      "text/plain": [
       "11"
      ]
     },
     "execution_count": 10,
     "metadata": {},
     "output_type": "execute_result"
    }
   ],
   "source": [
    "len(dyn_annots)"
   ]
  },
  {
   "cell_type": "markdown",
   "metadata": {},
   "source": [
    "## Reference Creation"
   ]
  },
  {
   "cell_type": "code",
   "execution_count": 11,
   "metadata": {},
   "outputs": [],
   "source": [
    "not_recursive = map_annots[-2] | dyn_annots[-2] # found indicators of one of the algorithms\n",
    "not_recursive.failure_message = \"Did not find indicators of hash map or dynamic programming implementations. Make sure you're not using the naive algorithm!\""
   ]
  },
  {
   "cell_type": "code",
   "execution_count": 12,
   "metadata": {},
   "outputs": [],
   "source": [
    "map_ref = pybryt.ReferenceImplementation(\"fibonacci_map\", map_annots)\n",
    "dyn_ref = pybryt.ReferenceImplementation(\"fibonacci_dyn\", dyn_annots)\n",
    "no_recurse_ref = pybryt.ReferenceImplementation(\"fibonacci_no_recurse\", [not_recursive])"
   ]
  },
  {
   "cell_type": "markdown",
   "metadata": {},
   "source": [
    " "
   ]
  }
 ],
 "metadata": {
  "@webio": {
   "lastCommId": null,
   "lastKernelId": null
  },
  "_change_revision": 0,
  "_is_fork": false,
  "celltoolbar": "Create Assignment",
  "kernelspec": {
   "display_name": "Python 3",
   "language": "python",
   "name": "python3"
  },
  "language_info": {
   "codemirror_mode": {
    "name": "ipython",
    "version": 3
   },
   "file_extension": ".py",
   "mimetype": "text/x-python",
   "name": "python",
   "nbconvert_exporter": "python",
   "pygments_lexer": "ipython3",
   "version": "3.7.3"
  },
  "toc": {
   "colors": {
    "hover_highlight": "#DAA520",
    "navigate_num": "#000000",
    "navigate_text": "#333333",
    "running_highlight": "#FF0000",
    "selected_highlight": "#FFD700",
    "sidebar_border": "#EEEEEE",
    "wrapper_background": "#FFFFFF"
   },
   "moveMenuLeft": true,
   "nav_menu": {
    "height": "301px",
    "width": "252px"
   },
   "navigate_menu": true,
   "number_sections": true,
   "sideBar": true,
   "threshold": 4,
   "toc_cell": false,
   "toc_section_display": "block",
   "toc_window_display": false,
   "widenNotebook": false
  }
 },
 "nbformat": 4,
 "nbformat_minor": 4
}
